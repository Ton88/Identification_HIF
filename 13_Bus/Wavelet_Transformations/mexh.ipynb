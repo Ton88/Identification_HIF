{
 "cells": [
  {
   "cell_type": "code",
   "execution_count": 2,
   "id": "21937d68",
   "metadata": {},
   "outputs": [
    {
     "name": "stdout",
     "output_type": "stream",
     "text": [
      "200\n"
     ]
    }
   ],
   "source": [
    "import pywt\n",
    "import numpy as np\n",
    "import matplotlib.pyplot as plt\n",
    "import pandas as pd\n",
    "\n",
    "df = pd.read_csv('19_06_20s_13Bus_200_linhas_10mile_seg.csv',sep = ';',header=None)\n",
    "\n",
    "len(df)\n",
    "\n",
    "df_pu = df;\n",
    "\n",
    "# Criar um dataframe vazio para armazenar os coeficientes\n",
    "new_df = pd.DataFrame()\n",
    "\n",
    "# Passo 1: Iterar sobre as linhas do dataframe\n",
    "for  index,row in df_pu.iterrows():\n",
    "    # Passo 2: Converter os valores em um array numpy\n",
    "    signal = row.values\n",
    "    \n",
    "    # Aplicar a Transformada Wavelet Contínua (CWT)\n",
    "    wavelet = 'mexh'  # Selecionar a wavelet Morlet  mexh morl shan fbsp cmor\n",
    "    scales = np.arange(1, 7)  # Escalas da wavelet\n",
    "    coef, freqs = pywt.cwt(signal, scales, wavelet)\n",
    "   \n",
    "    df_ax = pd.DataFrame([coef[5]])\n",
    "    \n",
    "    new_df =  pd.concat([new_df, df_ax], axis=0)\n",
    "\n",
    "# Criando uma lista com os valores desejados\n",
    "# Linhas 0 a 19: zeros\n",
    "parte1 = [0] * 20\n",
    "\n",
    "# Linhas 20 a 40: uns\n",
    "parte2 = [1] * 21\n",
    "\n",
    "# Linhas 41 a 79: zeros\n",
    "parte3 = [0] * 39\n",
    "\n",
    "# Linhas 80 a 100: uns\n",
    "parte4 = [1] * 21\n",
    "\n",
    "# Linhas 101 a 129: zeros\n",
    "parte5 = [0] * 29\n",
    "\n",
    "# Linhas 130 a 150: uns\n",
    "parte6 = [1] * 21\n",
    "\n",
    "# Linhas 151 a 169: zeros\n",
    "parte7 = [0] * 19\n",
    "\n",
    "# Linhas 170 a 190: uns\n",
    "parte8 = [1] * 21\n",
    "\n",
    "# Linhas 191 a 200: zeros\n",
    "parte9 = [0] * 9\n",
    "\n",
    "# Concatenando todas as partes em uma única lista\n",
    "data = parte1 + parte2 + parte3 + parte4 + parte5 + parte6 + parte7 + parte8 + parte9\n",
    "\n",
    "# Verificando o comprimento da lista (deve ser 200)\n",
    "print(len(data))  # Deve ser 200\n",
    "\n",
    "# Criando o DataFrame com a lista de dados\n",
    "df_co= pd.DataFrame(data)\n",
    "\n",
    "# Exibindo as primeiras e últimas 20 linhas do DataFrame para verificação\n",
    "#print(df_co.head(20))\n",
    "#print(df_co.tail(20))\n",
    "\n",
    "df2 = df_co;\n",
    "\n",
    "new_df = new_df.reset_index(drop=True)\n",
    "df2 = df2.reset_index(drop=True)\n",
    "\n",
    "df_salvar = pd.concat([new_df,df2], axis=1)\n",
    "\n",
    "df_salvar.head()\n",
    "\n",
    "df_salvar.to_csv('mexh_pu_13bus_19_06_corf_7_200linhas_100mile.csv', sep=';',index=True)"
   ]
  },
  {
   "cell_type": "code",
   "execution_count": null,
   "id": "d04825ae",
   "metadata": {},
   "outputs": [],
   "source": []
  },
  {
   "cell_type": "code",
   "execution_count": null,
   "id": "e4c743b8",
   "metadata": {},
   "outputs": [],
   "source": []
  }
 ],
 "metadata": {
  "kernelspec": {
   "display_name": "Python 3 (ipykernel)",
   "language": "python",
   "name": "python3"
  },
  "language_info": {
   "codemirror_mode": {
    "name": "ipython",
    "version": 3
   },
   "file_extension": ".py",
   "mimetype": "text/x-python",
   "name": "python",
   "nbconvert_exporter": "python",
   "pygments_lexer": "ipython3",
   "version": "3.11.5"
  }
 },
 "nbformat": 4,
 "nbformat_minor": 5
}
